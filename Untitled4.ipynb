{
  "metadata": {
    "language_info": {
      "codemirror_mode": {
        "name": "python",
        "version": 3
      },
      "file_extension": ".py",
      "mimetype": "text/x-python",
      "name": "python",
      "nbconvert_exporter": "python",
      "pygments_lexer": "ipython3",
      "version": "3.8"
    },
    "kernelspec": {
      "name": "python",
      "display_name": "Python (Pyodide)",
      "language": "python"
    }
  },
  "nbformat_minor": 4,
  "nbformat": 4,
  "cells": [
    {
      "cell_type": "code",
      "source": "На вход подается строка, состоящая из одного числа. Напишите программу, которая удваивает его.",
      "metadata": {},
      "execution_count": null,
      "outputs": []
    },
    {
      "cell_type": "code",
      "source": "num = 6\nprint(num*2)",
      "metadata": {},
      "execution_count": null,
      "outputs": []
    },
    {
      "cell_type": "code",
      "source": "Вводится число. Вывести его квадрат.",
      "metadata": {},
      "execution_count": null,
      "outputs": []
    },
    {
      "cell_type": "code",
      "source": "num = 16\nprint(num**(1/2))",
      "metadata": {},
      "execution_count": null,
      "outputs": []
    },
    {
      "cell_type": "code",
      "source": "Вводятся часы, минуты и секунды. Вывести, сколько секунд прошло с полуночи.\nВывести, какая часть суток прошла (число от 0 до 1).",
      "metadata": {},
      "execution_count": null,
      "outputs": []
    },
    {
      "cell_type": "code",
      "source": "hour = 12\nminute = 54\nseconds = 13\nsecondsfromthemidnight = ((hour*60*60) + (minute*60) + seconds)\nprint(\"seconds:\", secondsfromthemidnight)\nprint(\"day part:\", secondsfromthemidnight/(24*60*60))",
      "metadata": {
        "trusted": true
      },
      "execution_count": null,
      "outputs": []
    },
    {
      "cell_type": "code",
      "source": "Вводится число. Вывести, оканчивается ли оно на цифру 7, не используя приведение к строке и операции над строками",
      "metadata": {},
      "execution_count": null,
      "outputs": []
    },
    {
      "cell_type": "code",
      "source": "num = 1783837\nif (num%10)==0:\n    print(\"true\")\nelse:\n        print(\"false\")",
      "metadata": {
        "trusted": true
      },
      "execution_count": null,
      "outputs": []
    },
    {
      "cell_type": "code",
      "source": "Вводятся коэффициенты уравнения ax2+bx+c=0. Вывести его корни(не забыть проверить, что a не равно 0)",
      "metadata": {},
      "execution_count": null,
      "outputs": []
    },
    {
      "cell_type": "code",
      "source": "a = float(input(\"a = \"))\nb = float(input(\"b = \"))\nc = float(input(\"c = \"))\ndisc = b ** 2 - 4 * a * c\nif a!=0 and disc>0:\n    print(\"x1 = \", ((-b+disc**(1/2))/(2*a)), \"x2 = \", (-b+disc**(1/2))/(2*a)) \nelif a!=0 and disc==0:\n    print(\"x = \", (-b+disc**(1/2))/(2*a))\nelse:\n    print(\"no solutions\")",
      "metadata": {},
      "execution_count": null,
      "outputs": []
    },
    {
      "cell_type": "code",
      "source": "Вводятся три числа. Вывести максимум из них.",
      "metadata": {},
      "execution_count": null,
      "outputs": []
    },
    {
      "cell_type": "code",
      "source": "",
      "metadata": {},
      "execution_count": null,
      "outputs": []
    },
    {
      "cell_type": "code",
      "source": "Вводится число. Вывести среднее арифметическое (с точностью до двух знаков после запятой) тех чисел в диапазоне от единицы до введённого числа, которые делятся 5 или являются четными.",
      "metadata": {},
      "execution_count": null,
      "outputs": []
    },
    {
      "cell_type": "code",
      "source": "",
      "metadata": {},
      "execution_count": null,
      "outputs": []
    }
  ]
}