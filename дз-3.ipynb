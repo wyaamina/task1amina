{
  "nbformat": 4,
  "nbformat_minor": 0,
  "metadata": {
    "colab": {
      "provenance": [],
      "collapsed_sections": []
    },
    "kernelspec": {
      "name": "python3",
      "display_name": "Python 3"
    },
    "language_info": {
      "name": "python"
    }
  },
  "cells": [
    {
      "cell_type": "markdown",
      "source": [],
      "metadata": {
        "id": "RyuJ1kVtj8M2"
      }
    },
    {
      "cell_type": "markdown",
      "source": [
        "Вводится вектор. Вывести максимум из его элементов."
      ],
      "metadata": {
        "id": "Sk9_cnpSj-GP"
      }
    },
    {
      "cell_type": "code",
      "source": [
        "print(max(list(map(int, input().split()))))"
      ],
      "metadata": {
        "colab": {
          "base_uri": "https://localhost:8080/"
        },
        "id": "fUEDWysXknH4",
        "outputId": "bcf616fc-620e-4a71-ea27-8e93a9994b35"
      },
      "execution_count": 4,
      "outputs": [
        {
          "output_type": "stream",
          "name": "stdout",
          "text": [
            "1 3674 3782 27\n",
            "3782\n"
          ]
        }
      ]
    },
    {
      "cell_type": "markdown",
      "source": [
        "Вводится вектор. Заменить в нём каждое число Фибоначчи на следующее."
      ],
      "metadata": {
        "id": "XEhfn6HYBy0N"
      }
    },
    {
      "cell_type": "code",
      "source": [
        "vector = list(map(int, input().split()))\n",
        "maxinvector = (max(vector))\n",
        "fib1 = 1\n",
        "fib2 = 1\n",
        "i = 0\n",
        "fibs = [1]\n",
        "while i <= maxinvector:\n",
        "  fibsum = fib1 + fib2\n",
        "  fib1 = fib2\n",
        "  fib2 = fibsum\n",
        "  i = fibsum\n",
        "  fibs.append(i)\n",
        "fibs = list(map(int, (fibs)))\n",
        "print(fibs)\n",
        "result = []\n",
        "for p in vector:\n",
        "  for d in fibs:\n",
        "    if d == p:\n",
        "      index = (fibs.index(d) + 1)\n",
        "      newp = fibs[index]\n",
        "      p = newp\n",
        "      break\n",
        "    else:\n",
        "      continue\n",
        "  result.append(p)\n",
        "print(result)"
      ],
      "metadata": {
        "colab": {
          "base_uri": "https://localhost:8080/"
        },
        "id": "oxRXU1UO9Can",
        "outputId": "e6522d38-84f2-4f0b-d06b-42d8c340fe2c"
      },
      "execution_count": 26,
      "outputs": [
        {
          "output_type": "stream",
          "name": "stdout",
          "text": [
            "1 5 4\n",
            "[1, 2, 3, 5, 8]\n",
            "[2, 8, 4]\n"
          ]
        }
      ]
    },
    {
      "cell_type": "markdown",
      "source": [
        "Напишите программу, которая помогает определить какие вещи могут поместиться в рюкзак. Вводится существующий объем рюкзака. Затем вводятся объемы всех вещей, которые хочется туда поместить. Нужно вывести список объемов вещей, которые поместятся в рюкзак. Постарайтесь максимизировать кол-во вошедших вещей."
      ],
      "metadata": {
        "id": "ZzTDjnQpGAo9"
      }
    },
    {
      "cell_type": "code",
      "source": [
        "bag = int(input())\n",
        "vector = list(map(int, input().split()))\n",
        "result = []\n",
        "for i in vector:\n",
        " if (bag - i) > 0:\n",
        "   result.append(i)\n",
        "   bag -= i\n",
        "print(result)\n",
        "\n",
        "  \n",
        "\n",
        "\n",
        "\n"
      ],
      "metadata": {
        "colab": {
          "base_uri": "https://localhost:8080/"
        },
        "id": "SRdYURlcG-Is",
        "outputId": "72d5e452-6d1f-41e3-f149-224f80cf3966"
      },
      "execution_count": 5,
      "outputs": [
        {
          "output_type": "stream",
          "name": "stdout",
          "text": [
            "20\n",
            "1 2 3 4 5 6 7 8 9\n",
            "[1, 2, 3, 4, 5]\n"
          ]
        }
      ]
    },
    {
      "cell_type": "markdown",
      "source": [
        "Данные об email-адресах студентов хранятся в словаре: {домен:логины} . Нужно дополнить код таким образом, чтобы он вывел все адреса в алфавитном порядке и в формате имя_пользователя@домен"
      ],
      "metadata": {
        "id": "LjP96p8pIr53"
      }
    },
    {
      "cell_type": "code",
      "source": [
        "domenandname = {'mail.ru': ['aminaism', 'borisik'],\n",
        "      \t'gmail.com': ['mikhail'],\n",
        "      \t'yandex.ru': ['elenahitina']}\n",
        "print(*sorted({i + '@' + k for k, v in domenandname.items() for i in v}), sep = '\\n')"
      ],
      "metadata": {
        "colab": {
          "base_uri": "https://localhost:8080/"
        },
        "id": "-hb-9-qbI0ou",
        "outputId": "d90f2a08-f7f5-4f43-90c6-03dea4edaf0a"
      },
      "execution_count": 2,
      "outputs": [
        {
          "output_type": "stream",
          "name": "stdout",
          "text": [
            "aminaism@mail.ru\n",
            "borisik@mail.ru\n",
            "elenahitina@yandex.ru\n",
            "mikhail@gmail.com\n"
          ]
        }
      ]
    }
  ]
}